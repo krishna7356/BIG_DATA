{
 "cells": [
  {
   "cell_type": "markdown",
   "id": "4e31d55e",
   "metadata": {},
   "source": [
    "###  1.Write a Python program to check if a given string is an anagram."
   ]
  },
  {
   "cell_type": "code",
   "execution_count": 1,
   "id": "16cb3ad0",
   "metadata": {},
   "outputs": [],
   "source": [
    "# Function to check string is anagram or not\n",
    "def check_anagram(s1,s2):\n",
    "    \n",
    "    # sorted strings are checked\n",
    "    if (sorted(s1) == sorted(s2)):\n",
    "        print('The given strings are anagram')\n",
    "    else:\n",
    "        print(\"The given strings aren't anagram\")\n",
    "    "
   ]
  },
  {
   "cell_type": "code",
   "execution_count": 4,
   "id": "585526e7",
   "metadata": {},
   "outputs": [
    {
     "name": "stdout",
     "output_type": "stream",
     "text": [
      "The given strings aren't anagram\n"
     ]
    }
   ],
   "source": [
    "check_anagram('hai','iha')"
   ]
  },
  {
   "cell_type": "markdown",
   "id": "118b1e37",
   "metadata": {},
   "source": [
    "### 2.Write a Python program to find the maximum and minimum values in a dictionary."
   ]
  },
  {
   "cell_type": "code",
   "execution_count": 8,
   "id": "573b01f6",
   "metadata": {},
   "outputs": [
    {
     "name": "stdout",
     "output_type": "stream",
     "text": [
      "minimum value from the dictionary is  500\n",
      "maximum value from the dictionary is  5874\n"
     ]
    }
   ],
   "source": [
    "# input dictionary\n",
    "\n",
    "my_dict = {'x':500, 'y':5874, 'z': 560, 'k': 633,'u':5476}\n",
    "\n",
    "# storeing min and max keys\n",
    "\n",
    "key_max = max(my_dict.keys(), key=(lambda k: my_dict[k]))\n",
    "key_min = min(my_dict.keys(), key=(lambda k: my_dict[k]))\n",
    "\n",
    "# displaying minimum and maximum values\n",
    "\n",
    "print(\"minimum value from the dictionary is \",my_dict[key_min])\n",
    "print(\"maximum value from the dictionary is \",my_dict[key_max])"
   ]
  },
  {
   "cell_type": "markdown",
   "id": "3827e917",
   "metadata": {},
   "source": [
    "###  3.Write a Python program to find the average of a list of numbers."
   ]
  },
  {
   "cell_type": "code",
   "execution_count": 9,
   "id": "26a080a7",
   "metadata": {},
   "outputs": [
    {
     "name": "stdout",
     "output_type": "stream",
     "text": [
      "Average of the list = 35.75\n"
     ]
    }
   ],
   "source": [
    "# Function to find the average of list\n",
    "\n",
    "def Average(lst):\n",
    "    return sum(lst) / len(lst)\n",
    "\n",
    "# Driver Code\n",
    "lst = [15, 9, 55, 41, 35, 20, 62, 49]\n",
    "average = Average(lst)\n",
    "\n",
    "# Printing average of the list\n",
    "print(\"Average of the list =\", round(average, 2))\n"
   ]
  },
  {
   "cell_type": "markdown",
   "id": "1213ed65",
   "metadata": {},
   "source": [
    "### 4.Write a Python program to remove all vowels from a string."
   ]
  },
  {
   "cell_type": "code",
   "execution_count": 10,
   "id": "551dd525",
   "metadata": {},
   "outputs": [
    {
     "name": "stdout",
     "output_type": "stream",
     "text": [
      "Ths s  strng wth sm vwls nd thr wrds.\n"
     ]
    }
   ],
   "source": [
    "\n",
    "# Function to remove vowels\n",
    "\n",
    "import re\n",
    "def rem_vowel(string):\n",
    "    return (re.sub(\"[aeiouAEIOU]\",\"\",string))\n",
    "\n",
    "# Driver program\n",
    "string = \"This is a string with some vowels and other words.\"\n",
    "print(rem_vowel(string))\n"
   ]
  },
  {
   "cell_type": "markdown",
   "id": "9c701ea4",
   "metadata": {},
   "source": [
    "### 5.Write a Python function to calculate the factorial of a number using recursion."
   ]
  },
  {
   "cell_type": "code",
   "execution_count": 14,
   "id": "150ba7fa",
   "metadata": {},
   "outputs": [
    {
     "name": "stdout",
     "output_type": "stream",
     "text": [
      "number :  5\n",
      "Factorial :  120\n"
     ]
    }
   ],
   "source": [
    "# factorial of given number\n",
    "\n",
    "def factorial(n):\n",
    "    if (n==1 or n==0):\n",
    "        return 1\n",
    "    else:\n",
    "        return (n * factorial(n - 1))\n",
    "\n",
    "# Driver Code\n",
    "num = 5;\n",
    "print(\"number : \",num)\n",
    "print(\"Factorial : \",factorial(num))\n"
   ]
  },
  {
   "cell_type": "markdown",
   "id": "a18f20fc",
   "metadata": {},
   "source": [
    "### 6.Write a Python program to merge two unsorted lists into a  single sorted list using the merge sort algorithm."
   ]
  },
  {
   "cell_type": "code",
   "execution_count": 15,
   "id": "7315b1f2",
   "metadata": {},
   "outputs": [
    {
     "name": "stdout",
     "output_type": "stream",
     "text": [
      "[10, 12, 17, 20, 26, 31, 32, 40, 44, 49, 54, 55, 56, 75, 77, 93]\n"
     ]
    }
   ],
   "source": [
    "def merge_sort(lst):\n",
    "    if len(lst) > 1:\n",
    "        mid = len(lst) // 2\n",
    "        left_half = lst[:mid]\n",
    "        right_half = lst[mid:]\n",
    "\n",
    "        merge_sort(left_half)\n",
    "        merge_sort(right_half)\n",
    "\n",
    "        i = j = k = 0\n",
    "\n",
    "        while i < len(left_half) and j < len(right_half):\n",
    "            if left_half[i] < right_half[j]:\n",
    "                lst[k] = left_half[i]\n",
    "                i += 1\n",
    "            else:\n",
    "                lst[k] = right_half[j]\n",
    "                j += 1\n",
    "            k += 1\n",
    "\n",
    "        while i < len(left_half):\n",
    "            lst[k] = left_half[i]\n",
    "            i += 1\n",
    "            k += 1\n",
    "\n",
    "        while j < len(right_half):\n",
    "            lst[k] = right_half[j]\n",
    "            j += 1\n",
    "            k += 1\n",
    "\n",
    "lst1 = [54,26,93,17,77,31,44,55,20]\n",
    "lst2 = [12,10,32,56,40,75,49]\n",
    "\n",
    "merged_list = lst1 + lst2\n",
    "merge_sort(merged_list)\n",
    "\n",
    "print(merged_list)\n"
   ]
  },
  {
   "cell_type": "markdown",
   "id": "494b89a3",
   "metadata": {},
   "source": [
    "### 7.Write a Python program to find the GCD (Greatest Common Divisor) of two numbers."
   ]
  },
  {
   "cell_type": "code",
   "execution_count": 16,
   "id": "7d1f9b6b",
   "metadata": {},
   "outputs": [
    {
     "name": "stdout",
     "output_type": "stream",
     "text": [
      "The GCD of 60 and 48 is 12\n"
     ]
    }
   ],
   "source": [
    "def gcd(a, b):\n",
    "    while(b):\n",
    "        a, b = b, a % b\n",
    "    return a\n",
    "\n",
    "num1 = 60\n",
    "num2 = 48\n",
    "\n",
    "print(f\"The GCD of {num1} and {num2} is {gcd(num1, num2)}\")\n"
   ]
  },
  {
   "cell_type": "markdown",
   "id": "9ce58c6c",
   "metadata": {},
   "source": [
    "### 8.Write a Python program to find the second-largest element in a list."
   ]
  },
  {
   "cell_type": "code",
   "execution_count": 17,
   "id": "9eacea65",
   "metadata": {},
   "outputs": [
    {
     "name": "stdout",
     "output_type": "stream",
     "text": [
      "45\n"
     ]
    }
   ],
   "source": [
    "\n",
    "# List of numbers\n",
    "list1 = [10, 20, 4, 45, 99]\n",
    "\n",
    "# new_list is a set of list1\n",
    "new_list = set(list1)\n",
    "\n",
    "# Removing the largest element from temp list\n",
    "new_list.remove(max(new_list))\n",
    "\n",
    "# Elements in original list are not changed\n",
    "# print(list1)\n",
    "print(max(new_list))\n"
   ]
  },
  {
   "cell_type": "markdown",
   "id": "100ac1c5",
   "metadata": {},
   "source": [
    "### 9.Write a Python program to find the longest common subsequence between twostrings using dynamic programming."
   ]
  },
  {
   "cell_type": "code",
   "execution_count": 18,
   "id": "1a7f9260",
   "metadata": {},
   "outputs": [
    {
     "name": "stdout",
     "output_type": "stream",
     "text": [
      "LCS: GTAB\n"
     ]
    }
   ],
   "source": [
    "def lcs(X, Y):\n",
    "    m = len(X)\n",
    "    n = len(Y)\n",
    "    \n",
    "    # Create a 2D table to store the lengths of LCS of the substrings\n",
    "    L = [[0 for x in range(n+1)] for x in range(m+1)]\n",
    "    \n",
    "    # Build the L[m+1][n+1] table in bottom-up fashion\n",
    "    for i in range(m+1):\n",
    "        for j in range(n+1):\n",
    "            if i == 0 or j == 0:\n",
    "                L[i][j] = 0\n",
    "            elif X[i-1] == Y[j-1]:\n",
    "                L[i][j] = L[i-1][j-1] + 1\n",
    "            else:\n",
    "                L[i][j] = max(L[i-1][j], L[i][j-1])\n",
    "    \n",
    "    # Following code is used to print LCS\n",
    "    index = L[m][n]\n",
    "    \n",
    "    # Create a character array to store the LCS string\n",
    "    lcs = [\"\"] * (index+1)\n",
    "    lcs[index] = \"\"\n",
    "    \n",
    "    # Start from the right-most-bottom-most corner and\n",
    "    # one by one store characters in lcs[]\n",
    "    i = m\n",
    "    j = n\n",
    "    while i > 0 and j > 0:\n",
    "        # If current character in X[] and Y are same, then\n",
    "        # current character is part of LCS\n",
    "        if X[i-1] == Y[j-1]:\n",
    "            lcs[index-1] = X[i-1]\n",
    "            i -= 1\n",
    "            j -= 1\n",
    "            index -= 1\n",
    "        \n",
    "        # If not same, then find the larger of two and\n",
    "        # go in the direction of larger value\n",
    "        elif L[i-1][j] > L[i][j-1]:\n",
    "            i -= 1\n",
    "        else:\n",
    "            j -= 1\n",
    "    \n",
    "    return \"\".join(lcs)\n",
    "\n",
    "# Example usage\n",
    "X = \"AGGTAB\"\n",
    "Y = \"GXTXAYB\"\n",
    "print(\"LCS:\", lcs(X, Y)) # GTAB\n"
   ]
  }
 ],
 "metadata": {
  "kernelspec": {
   "display_name": "Python 3 (ipykernel)",
   "language": "python",
   "name": "python3"
  },
  "language_info": {
   "codemirror_mode": {
    "name": "ipython",
    "version": 3
   },
   "file_extension": ".py",
   "mimetype": "text/x-python",
   "name": "python",
   "nbconvert_exporter": "python",
   "pygments_lexer": "ipython3",
   "version": "3.10.5"
  }
 },
 "nbformat": 4,
 "nbformat_minor": 5
}
