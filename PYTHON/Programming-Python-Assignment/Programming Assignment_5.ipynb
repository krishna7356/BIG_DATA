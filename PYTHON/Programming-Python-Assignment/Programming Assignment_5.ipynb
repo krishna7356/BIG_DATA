{
 "cells": [
  {
   "cell_type": "markdown",
   "id": "4ac9602a",
   "metadata": {},
   "source": [
    "## Python Basic Programming Assignment - 5\n",
    "--------------\n"
   ]
  },
  {
   "cell_type": "markdown",
   "id": "fdaeee06",
   "metadata": {},
   "source": [
    "### 1. Write a Python Program to Find LCM?"
   ]
  },
  {
   "cell_type": "code",
   "execution_count": 1,
   "id": "2bbfde05",
   "metadata": {},
   "outputs": [],
   "source": [
    "def lcm(a,b):\n",
    "    '''\n",
    "    Function which return the LCM of two number.\n",
    "    '''\n",
    "    if a > b:\n",
    "       greater = a\n",
    "    else:\n",
    "       greater = b\n",
    "    \n",
    "    while True:\n",
    "        if (high%a==0) and (high%b==0):\n",
    "            break\n",
    "        else:\n",
    "            high += 1\n",
    "            \n",
    "    return high"
   ]
  },
  {
   "cell_type": "code",
   "execution_count": 4,
   "id": "b1491e95",
   "metadata": {},
   "outputs": [
    {
     "name": "stdout",
     "output_type": "stream",
     "text": [
      "The LCM is 216\n"
     ]
    }
   ],
   "source": [
    "a = 54\n",
    "b = 24\n",
    "\n",
    "print('The LCM is',lcm(a, b))"
   ]
  },
  {
   "cell_type": "markdown",
   "id": "2f459cdf",
   "metadata": {},
   "source": [
    "---------------------\n",
    "### 2. Write a Python Program to Find HCF?"
   ]
  },
  {
   "cell_type": "code",
   "execution_count": 6,
   "id": "ca13cf0c",
   "metadata": {},
   "outputs": [],
   "source": [
    "def hcf(a, b):\n",
    "    \n",
    "    low = a if a < b else b\n",
    "    \n",
    "    for i in range(1, low+1):\n",
    "        if (a%i==0) and (b%i==0):\n",
    "            hcf = i\n",
    "            \n",
    "    return hcf"
   ]
  },
  {
   "cell_type": "code",
   "execution_count": 7,
   "id": "3e41d1af",
   "metadata": {},
   "outputs": [
    {
     "name": "stdout",
     "output_type": "stream",
     "text": [
      "The HCF is 6\n"
     ]
    }
   ],
   "source": [
    "a = 12\n",
    "b = 30\n",
    "\n",
    "print(\"The HCF is\",hcf(a, b))"
   ]
  },
  {
   "cell_type": "markdown",
   "id": "d2c29370",
   "metadata": {},
   "source": [
    "---------------\n",
    "### 3. Write a Python Program to Convert Decimal to Binary, Octal and Hexadecimal?"
   ]
  },
  {
   "cell_type": "code",
   "execution_count": 8,
   "id": "f9fac93a",
   "metadata": {},
   "outputs": [],
   "source": [
    "def conversion(num):\n",
    "    print(\"Binary:      \", bin(num))\n",
    "    print(\"Octal:       \", oct(num))\n",
    "    print(\"Hexadecimal: \", hex(num))"
   ]
  },
  {
   "cell_type": "code",
   "execution_count": 11,
   "id": "f3dd6f8d",
   "metadata": {},
   "outputs": [
    {
     "name": "stdout",
     "output_type": "stream",
     "text": [
      "Binary:       0b1111\n",
      "Octal:        0o17\n",
      "Hexadecimal:  0xf\n"
     ]
    }
   ],
   "source": [
    "conversion(15)"
   ]
  },
  {
   "cell_type": "markdown",
   "id": "2a16c5fd",
   "metadata": {},
   "source": [
    "---------------------\n",
    "### 4. Write a Python Program To Find ASCII value of a character?"
   ]
  },
  {
   "cell_type": "code",
   "execution_count": 14,
   "id": "c5164be3",
   "metadata": {},
   "outputs": [
    {
     "name": "stdout",
     "output_type": "stream",
     "text": [
      "ord() expected a character, but string of length 3 found\n"
     ]
    }
   ],
   "source": [
    "try:\n",
    "    char = input(\"Enter a character: \")\n",
    "    ASCII_value = ord(char)\n",
    "    print(f\"ASCII value of {char} is {ASCII_value}\")\n",
    "except Exception as e:\n",
    "    print(e)"
   ]
  },
  {
   "cell_type": "markdown",
   "id": "226778a0",
   "metadata": {},
   "source": [
    "----------------\n",
    "### 5. Write a Python Program to Make a Simple Calculator with 4 basic mathematical operations?"
   ]
  },
  {
   "cell_type": "code",
   "execution_count": 15,
   "id": "4d0c1a4d",
   "metadata": {},
   "outputs": [
    {
     "name": "stdout",
     "output_type": "stream",
     "text": [
      "\n",
      "For addition:       +\n",
      "For subtraction:    -\n",
      "For multiplicaton:  *\n",
      "For division:       /\n",
      "For Exit:            X\n",
      "\n",
      "Result:  11\n",
      "invalid literal for int() with base 10: 'x'\n"
     ]
    }
   ],
   "source": [
    "try:\n",
    "    \n",
    "    while True:\n",
    "        num1 = int(input(\"Enter first number: \"))\n",
    "        num2 = int(input(\"Enter second number: \"))\n",
    "        \n",
    "        print(\"\\nFor addition:       +\")\n",
    "        print(\"For subtraction:    -\")\n",
    "        print(\"For multiplicaton:  *\")\n",
    "        print(\"For division:       /\")\n",
    "        print(\"For Exit:            X\")\n",
    "        \n",
    "        operation = input(\"\\nEnter the choice for mathematical operations: \")\n",
    "        \n",
    "        \n",
    "        if operation == '+':\n",
    "            result = num1 + num2\n",
    "        elif operation == '-':\n",
    "            result = num1 - num2\n",
    "        elif operation == '*':\n",
    "            result = num1 * num2\n",
    "        elif operation == '/':\n",
    "            result = num1 / num2\n",
    "        \n",
    "        if operation == 'X' or operation == 'x':\n",
    "            break\n",
    "            \n",
    "        print(\"\\nResult: \", result)\n",
    "except Exception as e:\n",
    "    print(e)"
   ]
  },
  {
   "cell_type": "code",
   "execution_count": null,
   "id": "fa01d572",
   "metadata": {},
   "outputs": [],
   "source": []
  }
 ],
 "metadata": {
  "kernelspec": {
   "display_name": "Python 3",
   "language": "python",
   "name": "python3"
  },
  "language_info": {
   "codemirror_mode": {
    "name": "ipython",
    "version": 3
   },
   "file_extension": ".py",
   "mimetype": "text/x-python",
   "name": "python",
   "nbconvert_exporter": "python",
   "pygments_lexer": "ipython3",
   "version": "3.10.5"
  },
  "vscode": {
   "interpreter": {
    "hash": "22a49e0ee0814321ded3ac19aada82c3cd011c5600f00e71fb0640a2a9279083"
   }
  }
 },
 "nbformat": 4,
 "nbformat_minor": 5
}
